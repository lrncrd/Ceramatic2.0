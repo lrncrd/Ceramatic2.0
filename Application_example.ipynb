{
 "cells": [
  {
   "cell_type": "code",
   "execution_count": 1,
   "metadata": {},
   "outputs": [],
   "source": [
    "# Install the required packages\n",
    "#!pip install -r requirements.txt"
   ]
  },
  {
   "cell_type": "code",
   "execution_count": 2,
   "metadata": {},
   "outputs": [],
   "source": [
    "# Importing libraries"
   ]
  },
  {
   "cell_type": "code",
   "execution_count": 3,
   "metadata": {},
   "outputs": [],
   "source": [
    "from utils import apply_model"
   ]
  },
  {
   "cell_type": "code",
   "execution_count": 4,
   "metadata": {},
   "outputs": [],
   "source": [
    "# Apply the model to the test data"
   ]
  },
  {
   "cell_type": "code",
   "execution_count": 5,
   "metadata": {},
   "outputs": [
    {
     "name": "stderr",
     "output_type": "stream",
     "text": [
      "100%|██████████| 4/4 [00:06<00:00,  1.72s/it]\n"
     ]
    }
   ],
   "source": [
    "processed_images = apply_model(\n",
    "            # Set the model directory\n",
    "            model_path=\"Ceramatic_model_V1.pt\",\n",
    "            # Set the path to the test images\n",
    "            imgs_dir=r\"demo/example_imgs\",\n",
    "            # Set the path to the metadata file\n",
    "            tabular_file = r\"demo/metadata_example.xlsx\", \n",
    "            # Process only the first 5 images\n",
    "            diagnostic=True,\n",
    "            # Visualize the diagnostic plots\n",
    "            diagnostic_plots=True,\n",
    "            # Add a metric bar\n",
    "            add_bar=True,\n",
    "            # Define the level of smoothing\n",
    "            median_blur=41)"
   ]
  },
  {
   "cell_type": "code",
   "execution_count": null,
   "metadata": {},
   "outputs": [],
   "source": [
    "j"
   ]
  }
 ],
 "metadata": {
  "kernelspec": {
   "display_name": "ceramatic",
   "language": "python",
   "name": "python3"
  },
  "language_info": {
   "codemirror_mode": {
    "name": "ipython",
    "version": 3
   },
   "file_extension": ".py",
   "mimetype": "text/x-python",
   "name": "python",
   "nbconvert_exporter": "python",
   "pygments_lexer": "ipython3",
   "version": "3.10.15"
  }
 },
 "nbformat": 4,
 "nbformat_minor": 2
}
